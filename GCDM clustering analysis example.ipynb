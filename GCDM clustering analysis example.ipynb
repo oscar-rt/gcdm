{
 "cells": [
  {
   "cell_type": "code",
   "execution_count": 2,
   "metadata": {},
   "outputs": [],
   "source": [
    "import numpy as np\n",
    "import pandas as pd\n",
    "import matplotlib as mpl\n",
    "import matplotlib.pyplot as plt\n",
    "import seaborn as sns\n",
    "import warnings; warnings.filterwarnings('ignore')\n",
    "import collections\n",
    "import string\n",
    "import scipy\n",
    "from scipy.io import loadmat\n",
    "from scipy.io import savemat\n",
    "from sklearn.cluster import KMeans\n",
    "from sklearn.cluster import AffinityPropagation, AgglomerativeClustering\n",
    "from sklearn import manifold\n",
    "from mpl_toolkits.mplot3d import Axes3D\n",
    "# This import registers the 3D projection, but is otherwise unused.\n",
    "from mpl_toolkits.mplot3d import Axes3D\n",
    "from sklearn.metrics.cluster import normalized_mutual_info_score, adjusted_rand_score\n",
    "from scipy.sparse import csr_matrix\n",
    "\n",
    "large = 22; med = 16; small = 12\n",
    "plt.style.use('seaborn-whitegrid')\n",
    "sns.set_style(\"white\")\n",
    "\n",
    "def check_iterable(item):\n",
    "    if type(item)==str:\n",
    "        it = [item]\n",
    "        return it\n",
    "    else:\n",
    "        return item\n",
    "\n",
    "def getknn(a, k):\n",
    "    return np.partition(a, k)[k]\n",
    "\n",
    "def load(file_path):\n",
    "    D = loadmat(file_path)\n",
    "    X=D['distances']\n",
    "    X=X+X.T\n",
    "    X=X.toarray()\n",
    "    return X\n",
    "\n",
    "datapath= #Set accordingly"
   ]
  },
  {
   "cell_type": "markdown",
   "metadata": {},
   "source": [
    "### For clustering analysis, you'll need to provide known cluster labels as ground truth if you want to measure accuracy using NMI and ARI"
   ]
  },
  {
   "cell_type": "code",
   "execution_count": 3,
   "metadata": {},
   "outputs": [],
   "source": [
    "def load_labels(name):\n",
    "    labels=[]\n",
    "\n",
    "    if name=='cancer':\n",
    "        cells = loadmat(datapath+'/Cancer/breast_cancer_5000_labels.mat')\n",
    "        cell_labels=cells['y2']\n",
    "        for item in cell_labels:\n",
    "            if item==\"Tumor\":\n",
    "                labels.append(0)\n",
    "            if item==\"Stromal\":\n",
    "                labels.append(1)\n",
    "            if item==\"Immune\":\n",
    "                labels.append(2)\n",
    "        y=np.array(labels)\n",
    "        cdict={0:'Tumor', 1:'Stromal', 2:'Immune'}\n",
    "        return [y, cdict]\n",
    "\n",
    "    if name=='deng':\n",
    "        cells = loadmat(datapath+'/Deng/deng_cells.mat')\n",
    "        cell_labels=cells['labels']\n",
    "        for item in cell_labels:\n",
    "            if item==\"zygote\":\n",
    "                labels.append(0)\n",
    "            if item==\"2cell \":\n",
    "                labels.append(1)\n",
    "            if item==\"4cell \":\n",
    "                labels.append(2)\n",
    "            if item==\"8cell \":\n",
    "                labels.append(3)\n",
    "            if item==\"16cell\":\n",
    "                labels.append(4)\n",
    "            if item==\"blast \":\n",
    "                labels.append(5)\n",
    "        y=np.array(labels)\n",
    "        cdict={0:'Zygote', 1:'2 cells', 2:'4 cells', 3:'8 cells', 4:'16 cell', 5:'Blastocyst'}\n",
    "        return [y, cdict]  "
   ]
  },
  {
   "cell_type": "markdown",
   "metadata": {},
   "source": [
    "### The following method loads the pre-computed Gromov-Wasserstein distance matrix. Make shure you run gidm_example.py script beforehand"
   ]
  },
  {
   "cell_type": "code",
   "execution_count": 4,
   "metadata": {},
   "outputs": [],
   "source": [
    "def load_gw_distances_and_labels(name):\n",
    "    if name=='cancer':\n",
    "        file_path=datapath+'/Cancer/cancerMP_21.npy'\n",
    "        cancer = np.load(file_path, allow_pickle=True)\n",
    "        can = cancer+cancer.T\n",
    "        data={'distances':can, 'labels':load_labels(name)[0]}\n",
    "    if name=='deng':\n",
    "        file_path=datapath+'/Deng/dengMP_21.npy'\n",
    "        deng=np.load(file_path, allow_pickle=True)\n",
    "        deng=deng+deng.T\n",
    "        data={'distances':deng, 'labels':load_labels(name)[0]}\n",
    "    return data "
   ]
  },
  {
   "cell_type": "code",
   "execution_count": 5,
   "metadata": {},
   "outputs": [],
   "source": [
    "def apply_gidm(X, neighbours):\n",
    "    ep=np.array([getknn(X[i,:],neighbours) for i in range(X.shape[0])])\n",
    "    ep=ep.reshape(ep.shape[0],1)\n",
    "    bw = np.outer(ep.T, ep)\n",
    "    D=X**2\n",
    "    N = np.multiply(D, 1/bw)\n",
    "    K = np.exp(-1*N)\n",
    "    sum_of_rows = K.sum(axis=1)\n",
    "    sum_of_rows=np.sqrt(sum_of_rows)\n",
    "    sum_of_rows=1/sum_of_rows\n",
    "    d = np.diag(sum_of_rows)\n",
    "    K=np.matmul(np.matmul(d,K),d)\n",
    "    W, V = np.linalg.eig(K)\n",
    "    \n",
    "    return W, V"
   ]
  },
  {
   "cell_type": "code",
   "execution_count": 6,
   "metadata": {},
   "outputs": [],
   "source": [
    "def compute_score_average(V, dims, y, method, scoring='nmi'):\n",
    "    score=0\n",
    "    \n",
    "    if scoring=='nmi':\n",
    "        if method=='afp':\n",
    "            clust=AffinityPropagation(random_state=5).fit(V[:,1:dims])\n",
    "            score=score+normalized_mutual_info_score(y, clust.labels_)\n",
    "    else:\n",
    "        if method=='afp':\n",
    "            clust=AffinityPropagation(random_state=5).fit(V[:,1:dims])\n",
    "            score=score+adjusted_rand_score(y, clust.labels_)\n",
    "\n",
    "    return score"
   ]
  },
  {
   "cell_type": "code",
   "execution_count": 20,
   "metadata": {},
   "outputs": [],
   "source": [
    "def do_clustering(V,dims,y,method):\n",
    "    if method=='afp':\n",
    "        clust=AffinityPropagation(random_state=5).fit(V[:,1:dims])\n",
    "    \n",
    "    return clust\n",
    "\n",
    "def get_scores_gidm(data_name,neighbours, scoring=None, method='kmeans'):\n",
    "    dims = np.array([3,5,10,15,20,50,100,200])\n",
    "    scores=[]\n",
    "    data=load_gw_distances_and_labels(data_name)\n",
    "    X=data['distances']\n",
    "    y=data['labels']\n",
    "    W, V = apply_gidm(X, neighbours)\n",
    "\n",
    "    for i in range(len(dims)):\n",
    "            scores.append(compute_score_average(V, dims[i], y, method, scoring))\n",
    "                          \n",
    "    return [scores, W, V]"
   ]
  },
  {
   "cell_type": "code",
   "execution_count": 8,
   "metadata": {},
   "outputs": [],
   "source": [
    "def plot_table_gidm(data_names, neighbors, scoring=None, method='kmeans', save_plot=False):\n",
    "    %matplotlib qt5\n",
    "    data_names=check_iterable(data_names)\n",
    "    nmigw=[get_scores_gw(name, neighbors, scoring, method)[0] for name in data_names]\n",
    "    ylabels=[string.capwords(name) for name in data_names]\n",
    "    xlabels=['3','5','10','15','20','50','100', '200']\n",
    "\n",
    "    plt.figure(figsize=(20,15), dpi= 400)\n",
    "    gwnmi_pl=sns.heatmap(nmigw, xticklabels=xlabels, yticklabels=ylabels, cmap='YlGnBu', cbar=False, annot=True, vmin=0, vmax=1, square=True, linewidths=.5, annot_kws={\"fontsize\":6})\n",
    "    gwnmi_pl.set_yticklabels(gwnmi_pl.get_yticklabels(), rotation = 0)\n",
    "\n",
    "    # Decorations\n",
    "    plt.title(scoring.upper()+' scores GIDM, k='+str(neighbors), fontsize=12)\n",
    "    plt.xticks(fontsize=8)\n",
    "    plt.yticks(fontsize=8)\n",
    "    if save_plot==True:\n",
    "        plt.savefig('../scores_table/GIDM'+method+'_'+scoring+'_'+str(neighbors)+'knn.jpg', dpi=350)\n",
    "        plt.close()\n",
    "    else:\n",
    "        plt.show()"
   ]
  },
  {
   "cell_type": "code",
   "execution_count": 21,
   "metadata": {},
   "outputs": [],
   "source": [
    "def plot_clusters3D(name, neighbours, dims, method='afp', save_plot=False):\n",
    "    labels, cdict = load_labels(name)\n",
    "    %matplotlib qt5\n",
    "    fig = plt.figure(figsize=(20,10), dpi=150)\n",
    "    V = get_scores_gidm(name, neighbours)[2]\n",
    "    clust=do_clustering(V,dims,labels,method)\n",
    "    \n",
    "    ax = fig.add_subplot(1, 3, 1, projection='3d')\n",
    "    ax.xaxis.set_ticklabels([])\n",
    "    ax.yaxis.set_ticklabels([])\n",
    "    ax.zaxis.set_ticklabels([])\n",
    "    ax.set_xlabel('$\\phi_1$')\n",
    "    ax.set_ylabel('$\\phi_2$')\n",
    "    ax.set_zlabel('$\\phi_3$')\n",
    "    ax.xaxis.set_pane_color((1.0, 1.0, 1.0, 0.0))\n",
    "    ax.yaxis.set_pane_color((1.0, 1.0, 1.0, 0.0))\n",
    "    ax.zaxis.set_pane_color((1.0, 1.0, 1.0, 0.0))\n",
    "    ax.set_title('GIDM')\n",
    "    scat=ax.scatter(V[:, 1], V[:, 2], V[:, 3], c=clust.labels_, cmap='Paired', label=labels)\n",
    "\n",
    "    handles, lab = scat.legend_elements() \n",
    "    ax3 = fig.add_subplot(1, 3, 3)\n",
    "    ax3.xaxis.set_ticklabels([])\n",
    "    ax3.yaxis.set_ticklabels([])\n",
    "    box = ax.get_position()\n",
    "    ax.set_position([box.x0, box.y0 + box.height * 0.1, box.width, box.height])\n",
    "    ax3.legend(handles, cdict.values(), title=\"Cell type\", loc=6, ncol=1)\n",
    "    ax3.axis('off')\n",
    "    \n",
    "    #plt.tight_layout() # No overlap of subplots\n",
    "\n",
    "    if save_plot==True:\n",
    "        plt.savefig('../visual/'+name+'_vis3D_'+str(neighbours)+'knn_'+str(min(dims))+'-'+str(max(dims))+'dims.jpg', dpi=350)\n",
    "        plt.close()\n",
    "    plt.show()"
   ]
  },
  {
   "cell_type": "code",
   "execution_count": 10,
   "metadata": {},
   "outputs": [],
   "source": [
    "datasets=['cancer', 'deng']"
   ]
  },
  {
   "cell_type": "code",
   "execution_count": 12,
   "metadata": {},
   "outputs": [],
   "source": [
    "plot_table_gidm(datasets, 30, scoring='ari', method='afp',save_plot=False)"
   ]
  },
  {
   "cell_type": "code",
   "execution_count": 22,
   "metadata": {},
   "outputs": [],
   "source": [
    "plot_clusters3D('cancer', neighbours=30, dims=50, method='afp')"
   ]
  },
  {
   "cell_type": "code",
   "execution_count": null,
   "metadata": {},
   "outputs": [],
   "source": []
  }
 ],
 "metadata": {
  "kernelspec": {
   "display_name": "Python 3",
   "language": "python",
   "name": "python3"
  },
  "language_info": {
   "codemirror_mode": {
    "name": "ipython",
    "version": 3
   },
   "file_extension": ".py",
   "mimetype": "text/x-python",
   "name": "python",
   "nbconvert_exporter": "python",
   "pygments_lexer": "ipython3",
   "version": "3.7.6"
  }
 },
 "nbformat": 4,
 "nbformat_minor": 4
}
